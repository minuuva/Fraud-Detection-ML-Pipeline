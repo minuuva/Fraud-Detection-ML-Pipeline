{
 "cells": [
  {
   "cell_type": "code",
   "execution_count": 14,
   "id": "19fe2258",
   "metadata": {},
   "outputs": [],
   "source": [
    "import polars as pl\n",
    "import pandas as pd\n",
    "import xgboost as xgb\n",
    "from sklearn.model_selection import train_test_split\n",
    "from sklearn.metrics import average_precision_score\n",
    "from sklearn.compose import ColumnTransformer\n",
    "from sklearn.preprocessing import OneHotEncoder\n",
    "from sklearn.pipeline import make_pipeline\n",
    "from sklearn.metrics import average_precision_score\n",
    "import xgboost as xgb"
   ]
  },
  {
   "cell_type": "code",
   "execution_count": 15,
   "id": "6e3f0adf",
   "metadata": {},
   "outputs": [
    {
     "name": "stdout",
     "output_type": "stream",
     "text": [
      "Shape: (2512, 19)\n"
     ]
    },
    {
     "data": {
      "application/vnd.microsoft.datawrangler.viewer.v0+json": {
       "columns": [
        {
         "name": "index",
         "rawType": "int64",
         "type": "integer"
        },
        {
         "name": "TransactionID",
         "rawType": "object",
         "type": "string"
        },
        {
         "name": "AccountID",
         "rawType": "object",
         "type": "string"
        },
        {
         "name": "DeviceID",
         "rawType": "object",
         "type": "string"
        },
        {
         "name": "Channel",
         "rawType": "object",
         "type": "string"
        },
        {
         "name": "TransactionType",
         "rawType": "object",
         "type": "string"
        },
        {
         "name": "TransactionAmount",
         "rawType": "float64",
         "type": "float"
        },
        {
         "name": "TransactionDuration",
         "rawType": "int64",
         "type": "integer"
        },
        {
         "name": "LoginAttempts",
         "rawType": "int64",
         "type": "integer"
        },
        {
         "name": "AccountBalance",
         "rawType": "float64",
         "type": "float"
        },
        {
         "name": "CustomerAge",
         "rawType": "int64",
         "type": "integer"
        },
        {
         "name": "CustomerOccupation",
         "rawType": "object",
         "type": "string"
        },
        {
         "name": "is_fraud",
         "rawType": "int64",
         "type": "integer"
        },
        {
         "name": "is_online",
         "rawType": "int8",
         "type": "integer"
        },
        {
         "name": "is_debit",
         "rawType": "int8",
         "type": "integer"
        },
        {
         "name": "many_login_attempts",
         "rawType": "int8",
         "type": "integer"
        },
        {
         "name": "amount_ratio",
         "rawType": "float64",
         "type": "float"
        },
        {
         "name": "acct_txn_cnt",
         "rawType": "int64",
         "type": "integer"
        },
        {
         "name": "acct_fraud_cnt",
         "rawType": "float64",
         "type": "float"
        },
        {
         "name": "acct_avg_amt",
         "rawType": "float64",
         "type": "float"
        }
       ],
       "conversionMethod": "pd.DataFrame",
       "ref": "c51dcd69-723c-4dcc-9185-7005f9c37eef",
       "rows": [
        [
         "0",
         "TX000006",
         "AC00393",
         "D000579",
         "ATM",
         "Debit",
         "92.15",
         "172",
         "1",
         "781.68",
         "18",
         "Student",
         "0",
         "0",
         "1",
         "0",
         "0.11773649511933358",
         "8",
         "0.0",
         "209.20625000000004"
        ],
        [
         "1",
         "TX000143",
         "AC00163",
         "D000439",
         "ATM",
         "Debit",
         "227.14",
         "294",
         "1",
         "341.94",
         "18",
         "Student",
         "0",
         "0",
         "1",
         "0",
         "0.6623316031958942",
         "2",
         "0.0",
         "307.955"
        ],
        [
         "2",
         "TX000254",
         "AC00442",
         "D000556",
         "ATM",
         "Debit",
         "218.96",
         "13",
         "1",
         "754.21",
         "18",
         "Student",
         "0",
         "0",
         "1",
         "0",
         "0.2899326015280518",
         "9",
         "0.0",
         "186.59111111111108"
        ],
        [
         "3",
         "TX000413",
         "AC00421",
         "D000451",
         "ATM",
         "Credit",
         "242.39",
         "271",
         "1",
         "1328.73",
         "18",
         "Student",
         "0",
         "0",
         "0",
         "0",
         "0.18228512555180373",
         "3",
         "0.0",
         "221.37333333333333"
        ],
        [
         "4",
         "TX000463",
         "AC00074",
         "D000630",
         "ATM",
         "Debit",
         "17.45",
         "88",
         "1",
         "1959.52",
         "18",
         "Student",
         "0",
         "0",
         "1",
         "0",
         "0.008900699814334972",
         "3",
         "0.0",
         "132.36666666666667"
        ]
       ],
       "shape": {
        "columns": 19,
        "rows": 5
       }
      },
      "text/html": [
       "<div>\n",
       "<style scoped>\n",
       "    .dataframe tbody tr th:only-of-type {\n",
       "        vertical-align: middle;\n",
       "    }\n",
       "\n",
       "    .dataframe tbody tr th {\n",
       "        vertical-align: top;\n",
       "    }\n",
       "\n",
       "    .dataframe thead th {\n",
       "        text-align: right;\n",
       "    }\n",
       "</style>\n",
       "<table border=\"1\" class=\"dataframe\">\n",
       "  <thead>\n",
       "    <tr style=\"text-align: right;\">\n",
       "      <th></th>\n",
       "      <th>TransactionID</th>\n",
       "      <th>AccountID</th>\n",
       "      <th>DeviceID</th>\n",
       "      <th>Channel</th>\n",
       "      <th>TransactionType</th>\n",
       "      <th>TransactionAmount</th>\n",
       "      <th>TransactionDuration</th>\n",
       "      <th>LoginAttempts</th>\n",
       "      <th>AccountBalance</th>\n",
       "      <th>CustomerAge</th>\n",
       "      <th>CustomerOccupation</th>\n",
       "      <th>is_fraud</th>\n",
       "      <th>is_online</th>\n",
       "      <th>is_debit</th>\n",
       "      <th>many_login_attempts</th>\n",
       "      <th>amount_ratio</th>\n",
       "      <th>acct_txn_cnt</th>\n",
       "      <th>acct_fraud_cnt</th>\n",
       "      <th>acct_avg_amt</th>\n",
       "    </tr>\n",
       "  </thead>\n",
       "  <tbody>\n",
       "    <tr>\n",
       "      <th>0</th>\n",
       "      <td>TX000006</td>\n",
       "      <td>AC00393</td>\n",
       "      <td>D000579</td>\n",
       "      <td>ATM</td>\n",
       "      <td>Debit</td>\n",
       "      <td>92.15</td>\n",
       "      <td>172</td>\n",
       "      <td>1</td>\n",
       "      <td>781.68</td>\n",
       "      <td>18</td>\n",
       "      <td>Student</td>\n",
       "      <td>0</td>\n",
       "      <td>0</td>\n",
       "      <td>1</td>\n",
       "      <td>0</td>\n",
       "      <td>0.117736</td>\n",
       "      <td>8</td>\n",
       "      <td>0.0</td>\n",
       "      <td>209.206250</td>\n",
       "    </tr>\n",
       "    <tr>\n",
       "      <th>1</th>\n",
       "      <td>TX000143</td>\n",
       "      <td>AC00163</td>\n",
       "      <td>D000439</td>\n",
       "      <td>ATM</td>\n",
       "      <td>Debit</td>\n",
       "      <td>227.14</td>\n",
       "      <td>294</td>\n",
       "      <td>1</td>\n",
       "      <td>341.94</td>\n",
       "      <td>18</td>\n",
       "      <td>Student</td>\n",
       "      <td>0</td>\n",
       "      <td>0</td>\n",
       "      <td>1</td>\n",
       "      <td>0</td>\n",
       "      <td>0.662332</td>\n",
       "      <td>2</td>\n",
       "      <td>0.0</td>\n",
       "      <td>307.955000</td>\n",
       "    </tr>\n",
       "    <tr>\n",
       "      <th>2</th>\n",
       "      <td>TX000254</td>\n",
       "      <td>AC00442</td>\n",
       "      <td>D000556</td>\n",
       "      <td>ATM</td>\n",
       "      <td>Debit</td>\n",
       "      <td>218.96</td>\n",
       "      <td>13</td>\n",
       "      <td>1</td>\n",
       "      <td>754.21</td>\n",
       "      <td>18</td>\n",
       "      <td>Student</td>\n",
       "      <td>0</td>\n",
       "      <td>0</td>\n",
       "      <td>1</td>\n",
       "      <td>0</td>\n",
       "      <td>0.289933</td>\n",
       "      <td>9</td>\n",
       "      <td>0.0</td>\n",
       "      <td>186.591111</td>\n",
       "    </tr>\n",
       "    <tr>\n",
       "      <th>3</th>\n",
       "      <td>TX000413</td>\n",
       "      <td>AC00421</td>\n",
       "      <td>D000451</td>\n",
       "      <td>ATM</td>\n",
       "      <td>Credit</td>\n",
       "      <td>242.39</td>\n",
       "      <td>271</td>\n",
       "      <td>1</td>\n",
       "      <td>1328.73</td>\n",
       "      <td>18</td>\n",
       "      <td>Student</td>\n",
       "      <td>0</td>\n",
       "      <td>0</td>\n",
       "      <td>0</td>\n",
       "      <td>0</td>\n",
       "      <td>0.182285</td>\n",
       "      <td>3</td>\n",
       "      <td>0.0</td>\n",
       "      <td>221.373333</td>\n",
       "    </tr>\n",
       "    <tr>\n",
       "      <th>4</th>\n",
       "      <td>TX000463</td>\n",
       "      <td>AC00074</td>\n",
       "      <td>D000630</td>\n",
       "      <td>ATM</td>\n",
       "      <td>Debit</td>\n",
       "      <td>17.45</td>\n",
       "      <td>88</td>\n",
       "      <td>1</td>\n",
       "      <td>1959.52</td>\n",
       "      <td>18</td>\n",
       "      <td>Student</td>\n",
       "      <td>0</td>\n",
       "      <td>0</td>\n",
       "      <td>1</td>\n",
       "      <td>0</td>\n",
       "      <td>0.008901</td>\n",
       "      <td>3</td>\n",
       "      <td>0.0</td>\n",
       "      <td>132.366667</td>\n",
       "    </tr>\n",
       "  </tbody>\n",
       "</table>\n",
       "</div>"
      ],
      "text/plain": [
       "  TransactionID AccountID DeviceID Channel TransactionType  TransactionAmount  \\\n",
       "0      TX000006   AC00393  D000579     ATM           Debit              92.15   \n",
       "1      TX000143   AC00163  D000439     ATM           Debit             227.14   \n",
       "2      TX000254   AC00442  D000556     ATM           Debit             218.96   \n",
       "3      TX000413   AC00421  D000451     ATM          Credit             242.39   \n",
       "4      TX000463   AC00074  D000630     ATM           Debit              17.45   \n",
       "\n",
       "   TransactionDuration  LoginAttempts  AccountBalance  CustomerAge  \\\n",
       "0                  172              1          781.68           18   \n",
       "1                  294              1          341.94           18   \n",
       "2                   13              1          754.21           18   \n",
       "3                  271              1         1328.73           18   \n",
       "4                   88              1         1959.52           18   \n",
       "\n",
       "  CustomerOccupation  is_fraud  is_online  is_debit  many_login_attempts  \\\n",
       "0            Student         0          0         1                    0   \n",
       "1            Student         0          0         1                    0   \n",
       "2            Student         0          0         1                    0   \n",
       "3            Student         0          0         0                    0   \n",
       "4            Student         0          0         1                    0   \n",
       "\n",
       "   amount_ratio  acct_txn_cnt  acct_fraud_cnt  acct_avg_amt  \n",
       "0      0.117736             8             0.0    209.206250  \n",
       "1      0.662332             2             0.0    307.955000  \n",
       "2      0.289933             9             0.0    186.591111  \n",
       "3      0.182285             3             0.0    221.373333  \n",
       "4      0.008901             3             0.0    132.366667  "
      ]
     },
     "execution_count": 15,
     "metadata": {},
     "output_type": "execute_result"
    }
   ],
   "source": [
    "# Load Engineered Parquet\n",
    "fe = pl.read_parquet(\"../data/features_eng.parquet\").to_pandas()\n",
    "print(\"Shape:\", fe.shape)\n",
    "fe.head()"
   ]
  },
  {
   "cell_type": "code",
   "execution_count": 16,
   "id": "8faa30ff",
   "metadata": {},
   "outputs": [
    {
     "name": "stdout",
     "output_type": "stream",
     "text": [
      "Train size: (1884, 17) Test size: (628, 17)\n"
     ]
    }
   ],
   "source": [
    "# Train Test Split\n",
    "X = fe.drop(columns=[\"is_fraud\", \"TransactionID\"])\n",
    "y = fe[\"is_fraud\"]\n",
    "\n",
    "X_train, X_test, y_train, y_test = train_test_split(\n",
    "    X, y, test_size=0.25, stratify=y, random_state=42\n",
    ")\n",
    "\n",
    "print(\"Train size:\", X_train.shape, \"Test size:\", X_test.shape)"
   ]
  },
  {
   "cell_type": "code",
   "execution_count": null,
   "id": "117f441c",
   "metadata": {},
   "outputs": [],
   "source": [
    "# Identify categorical columns\n",
    "cat_cols = X_train.select_dtypes(include=\"object\").columns.tolist()\n",
    "num_cols = [c for c in X_train.columns if c not in cat_cols]\n",
    "\n",
    "# Column transformer: one-hot for cat, pass-through for numeric\n",
    "preproc = ColumnTransformer(\n",
    "    transformers=[\n",
    "        (\"cat\", OneHotEncoder(handle_unknown=\"ignore\"), cat_cols),\n",
    "        (\"num\", \"passthrough\", num_cols)\n",
    "    ]\n",
    ")"
   ]
  },
  {
   "cell_type": "code",
   "execution_count": 18,
   "id": "ae2a4ec9",
   "metadata": {},
   "outputs": [],
   "source": [
    "# Scale-pos-weight for imbalance\n",
    "scale_pos = (len(y_train) - y_train.sum()) / y_train.sum()\n",
    "\n",
    "# Build pipeline \n",
    "model = xgb.XGBClassifier(\n",
    "    n_estimators=400,\n",
    "    max_depth=4,\n",
    "    learning_rate=0.05,\n",
    "    subsample=0.8,\n",
    "    colsample_bytree=0.8,\n",
    "    objective=\"binary:logistic\",\n",
    "    eval_metric=\"aucpr\",\n",
    "    scale_pos_weight=scale_pos,\n",
    "    n_jobs=-1,\n",
    "    random_state=42\n",
    ")\n",
    "\n",
    "pipe = make_pipeline(preproc, model)"
   ]
  },
  {
   "cell_type": "code",
   "execution_count": 19,
   "id": "3ad5ef0f",
   "metadata": {},
   "outputs": [
    {
     "name": "stdout",
     "output_type": "stream",
     "text": [
      "AUPRC on hold-out: 0.917\n"
     ]
    }
   ],
   "source": [
    "# Fit and evaluate\n",
    "pipe.fit(X_train, y_train)\n",
    "\n",
    "proba = pipe.predict_proba(X_test)[:, 1]\n",
    "auprc = average_precision_score(y_test, proba)\n",
    "print(f\"AUPRC on hold-out: {auprc:.3f}\")"
   ]
  },
  {
   "cell_type": "code",
   "execution_count": 10,
   "id": "ae59c539",
   "metadata": {},
   "outputs": [
    {
     "name": "stdout",
     "output_type": "stream",
     "text": [
      "Model saved to ../models/fraud_xgb.json\n"
     ]
    }
   ],
   "source": [
    "import os\n",
    "os.makedirs(\"../models\", exist_ok=True)\n",
    "\n",
    "pipe[-1].save_model(\"../models/fraud_xgb.json\")\n",
    "print(\"Model saved to ../models/fraud_xgb.json\")"
   ]
  }
 ],
 "metadata": {
  "kernelspec": {
   "display_name": "Python 3",
   "language": "python",
   "name": "python3"
  },
  "language_info": {
   "codemirror_mode": {
    "name": "ipython",
    "version": 3
   },
   "file_extension": ".py",
   "mimetype": "text/x-python",
   "name": "python",
   "nbconvert_exporter": "python",
   "pygments_lexer": "ipython3",
   "version": "3.12.5"
  }
 },
 "nbformat": 4,
 "nbformat_minor": 5
}
